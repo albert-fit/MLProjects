{
 "cells": [
  {
   "cell_type": "code",
   "execution_count": 9,
   "id": "43861b7a",
   "metadata": {},
   "outputs": [
    {
     "name": "stdout",
     "output_type": "stream",
     "text": [
      "31\n"
     ]
    }
   ],
   "source": [
    "#assigned a variable\n",
    "my_age = 31\n",
    "print(my_age)"
   ]
  },
  {
   "cell_type": "code",
   "execution_count": 10,
   "id": "bc075c66",
   "metadata": {},
   "outputs": [
    {
     "name": "stdout",
     "output_type": "stream",
     "text": [
      "33\n"
     ]
    }
   ],
   "source": [
    "# re-asign a new value to myAge\n",
    "my_age = 33\n",
    "print(my_age)"
   ]
  },
  {
   "cell_type": "code",
   "execution_count": null,
   "id": "c2540b1e",
   "metadata": {},
   "outputs": [],
   "source": []
  },
  {
   "cell_type": "code",
   "execution_count": 11,
   "id": "6987fae1",
   "metadata": {},
   "outputs": [
    {
     "name": "stdout",
     "output_type": "stream",
     "text": [
      "4.52125\n"
     ]
    }
   ],
   "source": [
    "restaurant_bill = 36.17\n",
    "service_charge = 0.125\n",
    "print(restaurant_bill*service_charge)"
   ]
  },
  {
   "cell_type": "code",
   "execution_count": 12,
   "id": "ffaf5a3f",
   "metadata": {},
   "outputs": [],
   "source": [
    "import pandas as pd\n",
    "data = pd.read_csv('lsd_math_score_data.csv')"
   ]
  },
  {
   "cell_type": "code",
   "execution_count": 13,
   "id": "0713f8bf",
   "metadata": {},
   "outputs": [
    {
     "name": "stdout",
     "output_type": "stream",
     "text": [
      "   Time_Delay_in_Minutes  LSD_ppm  Avg_Math_Test_Score\n",
      "0                      5     1.17                78.93\n",
      "1                     15     2.97                58.20\n",
      "2                     30     3.26                67.47\n",
      "3                     60     4.69                37.47\n",
      "4                    120     5.83                45.65\n",
      "5                    240     6.00                32.92\n",
      "6                    480     6.41                29.97\n"
     ]
    }
   ],
   "source": [
    "print(data)"
   ]
  },
  {
   "cell_type": "code",
   "execution_count": 14,
   "id": "272ad0e9",
   "metadata": {},
   "outputs": [
    {
     "data": {
      "text/plain": [
       "pandas.core.frame.DataFrame"
      ]
     },
     "execution_count": 14,
     "metadata": {},
     "output_type": "execute_result"
    }
   ],
   "source": [
    "type(data)"
   ]
  },
  {
   "cell_type": "code",
   "execution_count": 15,
   "id": "443e0dd8",
   "metadata": {},
   "outputs": [
    {
     "data": {
      "text/plain": [
       "0    78.93\n",
       "1    58.20\n",
       "2    67.47\n",
       "3    37.47\n",
       "4    45.65\n",
       "5    32.92\n",
       "6    29.97\n",
       "Name: Avg_Math_Test_Score, dtype: float64"
      ]
     },
     "execution_count": 15,
     "metadata": {},
     "output_type": "execute_result"
    }
   ],
   "source": [
    "data['Avg_Math_Test_Score']"
   ]
  },
  {
   "cell_type": "code",
   "execution_count": 16,
   "id": "ac83aedb",
   "metadata": {},
   "outputs": [
    {
     "data": {
      "text/plain": [
       "78.93"
      ]
     },
     "execution_count": 16,
     "metadata": {},
     "output_type": "execute_result"
    }
   ],
   "source": [
    "data['Avg_Math_Test_Score'][0]"
   ]
  },
  {
   "cell_type": "code",
   "execution_count": 17,
   "id": "5d1371b1",
   "metadata": {},
   "outputs": [],
   "source": [
    "onlyMathScores = data['Avg_Math_Test_Score']"
   ]
  },
  {
   "cell_type": "code",
   "execution_count": 18,
   "id": "83063e4e",
   "metadata": {},
   "outputs": [
    {
     "name": "stdout",
     "output_type": "stream",
     "text": [
      "0    78.93\n",
      "1    58.20\n",
      "2    67.47\n",
      "3    37.47\n",
      "4    45.65\n",
      "5    32.92\n",
      "6    29.97\n",
      "Name: Avg_Math_Test_Score, dtype: float64\n"
     ]
    }
   ],
   "source": [
    "print(onlyMathScores)"
   ]
  },
  {
   "cell_type": "code",
   "execution_count": 19,
   "id": "16076e25",
   "metadata": {},
   "outputs": [],
   "source": [
    "data['Test_Subject'] = ['Berty','Lucy','Paul','Yvonne','Rosey','Jack','James']"
   ]
  },
  {
   "cell_type": "code",
   "execution_count": 20,
   "id": "81cda642",
   "metadata": {},
   "outputs": [
    {
     "name": "stdout",
     "output_type": "stream",
     "text": [
      "   Time_Delay_in_Minutes  LSD_ppm  Avg_Math_Test_Score Test_Subject\n",
      "0                      5     1.17                78.93        Berty\n",
      "1                     15     2.97                58.20         Lucy\n",
      "2                     30     3.26                67.47         Paul\n",
      "3                     60     4.69                37.47       Yvonne\n",
      "4                    120     5.83                45.65        Rosey\n",
      "5                    240     6.00                32.92         Jack\n",
      "6                    480     6.41                29.97        James\n"
     ]
    }
   ],
   "source": [
    "print(data)"
   ]
  },
  {
   "cell_type": "code",
   "execution_count": 21,
   "id": "14812e18",
   "metadata": {},
   "outputs": [
    {
     "name": "stdout",
     "output_type": "stream",
     "text": [
      "   Time_Delay_in_Minutes  LSD_ppm  Avg_Math_Test_Score Test_Subject  \\\n",
      "0                      5     1.17                78.93        Berty   \n",
      "1                     15     2.97                58.20         Lucy   \n",
      "2                     30     3.26                67.47         Paul   \n",
      "3                     60     4.69                37.47       Yvonne   \n",
      "4                    120     5.83                45.65        Rosey   \n",
      "5                    240     6.00                32.92         Jack   \n",
      "6                    480     6.41                29.97        James   \n",
      "\n",
      "   High Score  \n",
      "0         100  \n",
      "1         100  \n",
      "2         100  \n",
      "3         100  \n",
      "4         100  \n",
      "5         100  \n",
      "6         100  \n"
     ]
    }
   ],
   "source": [
    "data['High Score'] = 100\n",
    "print(data)"
   ]
  },
  {
   "cell_type": "code",
   "execution_count": 22,
   "id": "a36e2a08",
   "metadata": {},
   "outputs": [],
   "source": [
    "data['High Score'] = data['Avg_Math_Test_Score']"
   ]
  },
  {
   "cell_type": "code",
   "execution_count": 23,
   "id": "0feaa2d5",
   "metadata": {},
   "outputs": [
    {
     "name": "stdout",
     "output_type": "stream",
     "text": [
      "   Time_Delay_in_Minutes  LSD_ppm  Avg_Math_Test_Score Test_Subject  \\\n",
      "0                      5     1.17                78.93        Berty   \n",
      "1                     15     2.97                58.20         Lucy   \n",
      "2                     30     3.26                67.47         Paul   \n",
      "3                     60     4.69                37.47       Yvonne   \n",
      "4                    120     5.83                45.65        Rosey   \n",
      "5                    240     6.00                32.92         Jack   \n",
      "6                    480     6.41                29.97        James   \n",
      "\n",
      "   High Score  \n",
      "0       78.93  \n",
      "1       58.20  \n",
      "2       67.47  \n",
      "3       37.47  \n",
      "4       45.65  \n",
      "5       32.92  \n",
      "6       29.97  \n"
     ]
    }
   ],
   "source": [
    "print(data)"
   ]
  },
  {
   "cell_type": "code",
   "execution_count": 24,
   "id": "315a654a",
   "metadata": {},
   "outputs": [],
   "source": [
    "data[\"High Score\"] = data[\"High Score\"]**2"
   ]
  },
  {
   "cell_type": "code",
   "execution_count": 25,
   "id": "66230a95",
   "metadata": {},
   "outputs": [
    {
     "name": "stdout",
     "output_type": "stream",
     "text": [
      "   Time_Delay_in_Minutes  LSD_ppm  Avg_Math_Test_Score Test_Subject  \\\n",
      "0                      5     1.17                78.93        Berty   \n",
      "1                     15     2.97                58.20         Lucy   \n",
      "2                     30     3.26                67.47         Paul   \n",
      "3                     60     4.69                37.47       Yvonne   \n",
      "4                    120     5.83                45.65        Rosey   \n",
      "5                    240     6.00                32.92         Jack   \n",
      "6                    480     6.41                29.97        James   \n",
      "\n",
      "   High Score  \n",
      "0   6229.9449  \n",
      "1   3387.2400  \n",
      "2   4552.2009  \n",
      "3   1404.0009  \n",
      "4   2083.9225  \n",
      "5   1083.7264  \n",
      "6    898.2009  \n"
     ]
    }
   ],
   "source": [
    "print(data)"
   ]
  },
  {
   "cell_type": "code",
   "execution_count": 26,
   "id": "b8b5cfd8",
   "metadata": {},
   "outputs": [
    {
     "data": {
      "text/plain": [
       "pandas.core.series.Series"
      ]
     },
     "execution_count": 26,
     "metadata": {},
     "output_type": "execute_result"
    }
   ],
   "source": [
    "type(onlyMathScores)"
   ]
  },
  {
   "cell_type": "code",
   "execution_count": 27,
   "id": "8424177d",
   "metadata": {},
   "outputs": [],
   "source": [
    "# columnList = ['LSD_ppm','Avg_Math_Test_Score']\n",
    "cleanData = data[['LSD_ppm','Avg_Math_Test_Score']]"
   ]
  },
  {
   "cell_type": "code",
   "execution_count": 28,
   "id": "69d40ad6",
   "metadata": {},
   "outputs": [
    {
     "name": "stdout",
     "output_type": "stream",
     "text": [
      "   LSD_ppm  Avg_Math_Test_Score\n",
      "0     1.17                78.93\n",
      "1     2.97                58.20\n",
      "2     3.26                67.47\n",
      "3     4.69                37.47\n",
      "4     5.83                45.65\n",
      "5     6.00                32.92\n",
      "6     6.41                29.97\n"
     ]
    }
   ],
   "source": [
    "print(cleanData)"
   ]
  },
  {
   "cell_type": "code",
   "execution_count": 29,
   "id": "f1c43c64",
   "metadata": {},
   "outputs": [
    {
     "data": {
      "text/plain": [
       "pandas.core.frame.DataFrame"
      ]
     },
     "execution_count": 29,
     "metadata": {},
     "output_type": "execute_result"
    }
   ],
   "source": [
    "type(cleanData)"
   ]
  },
  {
   "cell_type": "code",
   "execution_count": 30,
   "id": "96642e8c",
   "metadata": {},
   "outputs": [],
   "source": [
    "X = data[['LSD_ppm']]\n",
    "y = data[['Avg_Math_Test_Score']]\n"
   ]
  },
  {
   "cell_type": "code",
   "execution_count": 31,
   "id": "b091c616",
   "metadata": {},
   "outputs": [
    {
     "name": "stdout",
     "output_type": "stream",
     "text": [
      "   LSD_ppm\n",
      "0     1.17\n",
      "1     2.97\n",
      "2     3.26\n",
      "3     4.69\n",
      "4     5.83\n",
      "5     6.00\n",
      "6     6.41\n"
     ]
    },
    {
     "data": {
      "text/plain": [
       "pandas.core.frame.DataFrame"
      ]
     },
     "execution_count": 31,
     "metadata": {},
     "output_type": "execute_result"
    }
   ],
   "source": [
    "type(y)\n",
    "print(X)\n",
    "type(X)"
   ]
  },
  {
   "cell_type": "code",
   "execution_count": 32,
   "id": "41e10c2c",
   "metadata": {},
   "outputs": [
    {
     "name": "stdout",
     "output_type": "stream",
     "text": [
      "   Time_Delay_in_Minutes  LSD_ppm  Avg_Math_Test_Score  High Score\n",
      "0                      5     1.17                78.93   6229.9449\n",
      "1                     15     2.97                58.20   3387.2400\n",
      "2                     30     3.26                67.47   4552.2009\n",
      "3                     60     4.69                37.47   1404.0009\n",
      "4                    120     5.83                45.65   2083.9225\n",
      "5                    240     6.00                32.92   1083.7264\n",
      "6                    480     6.41                29.97    898.2009\n"
     ]
    }
   ],
   "source": [
    "del data['Test_Subject']\n",
    "print(data)"
   ]
  },
  {
   "cell_type": "code",
   "execution_count": 33,
   "id": "6ffefa7d",
   "metadata": {},
   "outputs": [
    {
     "name": "stdout",
     "output_type": "stream",
     "text": [
      "   Time_Delay_in_Minutes  LSD_ppm  Avg_Math_Test_Score\n",
      "0                      5     1.17                78.93\n",
      "1                     15     2.97                58.20\n",
      "2                     30     3.26                67.47\n",
      "3                     60     4.69                37.47\n",
      "4                    120     5.83                45.65\n",
      "5                    240     6.00                32.92\n",
      "6                    480     6.41                29.97\n"
     ]
    }
   ],
   "source": [
    "del data['High Score']\n",
    "print (data)\n"
   ]
  },
  {
   "cell_type": "code",
   "execution_count": null,
   "id": "de8c0d5b",
   "metadata": {},
   "outputs": [],
   "source": []
  },
  {
   "cell_type": "code",
   "execution_count": 34,
   "id": "9c351173",
   "metadata": {},
   "outputs": [
    {
     "name": "stdout",
     "output_type": "stream",
     "text": [
      "3.141592653589793\n",
      "2.718281828459045\n"
     ]
    }
   ],
   "source": [
    "import math\n",
    "print(math.pi)\n",
    "print(math.e)"
   ]
  },
  {
   "cell_type": "code",
   "execution_count": null,
   "id": "7ba44d14",
   "metadata": {},
   "outputs": [],
   "source": []
  },
  {
   "cell_type": "code",
   "execution_count": 35,
   "id": "2ae919f7",
   "metadata": {},
   "outputs": [],
   "source": [
    "import matplotlib.pyplot as plt\n",
    "from sklearn.linear_model import LinearRegression"
   ]
  },
  {
   "cell_type": "code",
   "execution_count": 36,
   "id": "41a2b057",
   "metadata": {},
   "outputs": [],
   "source": [
    "def get_milk():\n",
    "    print('Open door')\n",
    "    print('Walk to the store')\n",
    "    print('Buy milk on the ground floor')\n",
    "    print('Return with milk galore')\n",
    "    "
   ]
  },
  {
   "cell_type": "code",
   "execution_count": 37,
   "id": "f8d3ec6f",
   "metadata": {},
   "outputs": [
    {
     "name": "stdout",
     "output_type": "stream",
     "text": [
      "Open door\n",
      "Walk to the store\n",
      "Buy milk on the ground floor\n",
      "Return with milk galore\n"
     ]
    }
   ],
   "source": [
    "get_milk()"
   ]
  },
  {
   "cell_type": "code",
   "execution_count": 38,
   "id": "06d6e6dc",
   "metadata": {},
   "outputs": [],
   "source": [
    "def fill_the_fridge(amount):\n",
    "    print('Open door')\n",
    "    print('Walk to the store')\n",
    "    print('Buy ' + amount + ' cartons on the ground floor')\n",
    "    print('Return with milk galore')"
   ]
  },
  {
   "cell_type": "code",
   "execution_count": 39,
   "id": "e5bfd706",
   "metadata": {},
   "outputs": [
    {
     "name": "stdout",
     "output_type": "stream",
     "text": [
      "Open door\n",
      "Walk to the store\n",
      "Buy all cartons on the ground floor\n",
      "Return with milk galore\n"
     ]
    }
   ],
   "source": [
    "fill_the_fridge('all')"
   ]
  },
  {
   "cell_type": "code",
   "execution_count": 40,
   "id": "92b95ce3",
   "metadata": {},
   "outputs": [
    {
     "name": "stdout",
     "output_type": "stream",
     "text": [
      "15.9826\n"
     ]
    }
   ],
   "source": [
    "def times(a, b):\n",
    "    return a*b\n",
    "\n",
    "test = times(3.14, 5.09)\n",
    "print(test)"
   ]
  },
  {
   "cell_type": "code",
   "execution_count": 41,
   "id": "c844f72b",
   "metadata": {},
   "outputs": [],
   "source": [
    "import life as hitchhikersGuide\n"
   ]
  },
  {
   "cell_type": "code",
   "execution_count": 42,
   "id": "1a3f65d3",
   "metadata": {},
   "outputs": [
    {
     "name": "stdout",
     "output_type": "stream",
     "text": [
      "I've calculated your chance of survival, but I don't think you'll like it.\n"
     ]
    },
    {
     "data": {
      "text/plain": [
       "7.946068210127573"
      ]
     },
     "execution_count": 42,
     "metadata": {},
     "output_type": "execute_result"
    }
   ],
   "source": [
    "hitchhikersGuide.quote_marvin()\n",
    "hitchhikersGuide.square_root(63.14)"
   ]
  },
  {
   "cell_type": "code",
   "execution_count": 43,
   "id": "97824e73",
   "metadata": {},
   "outputs": [],
   "source": [
    "time = data[['Time_Delay_in_Minutes']]\n",
    "LSD = data[['LSD_ppm']]\n",
    "score = data[['Avg_Math_Test_Score']]\n"
   ]
  },
  {
   "cell_type": "code",
   "execution_count": 44,
   "id": "2743c8ea",
   "metadata": {},
   "outputs": [
    {
     "data": {
      "image/png": "[encoded data removed]",
      "text/plain": [
       "<Figure size 640x480 with 1 Axes>"
      ]
     },
     "metadata": {},
     "output_type": "display_data"
    }
   ],
   "source": [
    "%matplotlib inline\n",
    "# style of the chart\n",
    "plt.plot(time, LSD, color = 'g', linewidth = 3)\n",
    "plt.title('Tissue concentration of LSD over time', fontsize=17)\n",
    "plt.ylabel('LSD ppm')\n",
    "plt.xlabel('Time in Minutes')\n",
    "plt.text(x=0, y=-0.5, s=\"Wagner et al. (1968)\", fontsize=12)\n",
    "plt.xticks(fontsize=14)\n",
    "plt.yticks(fontsize=14)\n",
    "\n",
    "# plotting characteristics\n",
    "plt.ylim(1,7)\n",
    "plt.xlim(0,500)\n",
    "\n",
    "plt.style.use('classic')\n",
    "\n",
    "plt.show()"
   ]
  },
  {
   "cell_type": "code",
   "execution_count": 45,
   "id": "e3db900a",
   "metadata": {},
   "outputs": [
    {
     "name": "stdout",
     "output_type": "stream",
     "text": [
      "Theta1:  -9.009466415296783\n",
      "Intercept:  89.12387376799306\n",
      "R-Square 0.8778349707775888\n"
     ]
    }
   ],
   "source": [
    "regr = LinearRegression()\n",
    "regr.fit(LSD, score)\n",
    "print('Theta1: ',regr.coef_[0][0])\n",
    "print('Intercept: ', regr.intercept_[0])\n",
    "print('R-Square', regr.score(LSD, score))\n",
    "predicted_score = regr.predict(LSD)"
   ]
  },
  {
   "cell_type": "code",
   "execution_count": 46,
   "id": "b6bde7ac",
   "metadata": {},
   "outputs": [
    {
     "data": {
      "image/png": "[encoded data removed]",
      "text/plain": [
       "<Figure size 640x480 with 1 Axes>"
      ]
     },
     "metadata": {},
     "output_type": "display_data"
    }
   ],
   "source": [
    "%matplotlib inline\n",
    "plt.scatter(LSD, score, color='blue', s=100, alpha=0.5 )\n",
    "plt.title('Arithmetic vs LSD-25', fontsize=17)\n",
    "plt.xlabel('Tissue LSD ppm', fontsize=14)\n",
    "plt.ylabel('Performance Score', fontsize=14)\n",
    "\n",
    "plt.plot(LSD, predicted_score, color='red', linewidth=3)\n",
    "\n",
    "plt.ylim(25, 85)\n",
    "plt.xlim(1,6.5)\n",
    "plt.show()"
   ]
  },
  {
   "cell_type": "code",
   "execution_count": null,
   "id": "b8d01821",
   "metadata": {},
   "outputs": [],
   "source": []
  }
 ],
 "metadata": {
  "kernelspec": {
   "display_name": "Python 3 (ipykernel)",
   "language": "python",
   "name": "python3"
  },
  "language_info": {
   "codemirror_mode": {
    "name": "ipython",
    "version": 3
   },
   "file_extension": ".py",
   "mimetype": "text/x-python",
   "name": "python",
   "nbconvert_exporter": "python",
   "pygments_lexer": "ipython3",
   "version": "3.11.5"
  }
 },
 "nbformat": 4,
 "nbformat_minor": 5
}
